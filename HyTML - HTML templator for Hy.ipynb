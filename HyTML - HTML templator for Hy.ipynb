{
 "cells": [
  {
   "cell_type": "markdown",
   "metadata": {},
   "source": [
    "# HyTML - (X)HTML templator / generator for Hy"
   ]
  },
  {
   "cell_type": "markdown",
   "metadata": {},
   "source": [
    "My environment for the sake of clarity:"
   ]
  },
  {
   "cell_type": "code",
   "execution_count": 1,
   "metadata": {
    "collapsed": false
   },
   "outputs": [
    {
     "name": "stdout",
     "output_type": "stream",
     "text": [
      "Hy version:  0.12.1\n",
      "Python 3.5.2 |Anaconda custom (64-bit)| (default, Jul  5 2016, 11:41:13) [MSC v.1900 64 bit (AMD64)]\n"
     ]
    }
   ],
   "source": [
    "(import hy sys)\n",
    "(print \"Hy version: \" hy.__version__)\n",
    "(print \"Python\" sys.version)"
   ]
  },
  {
   "cell_type": "markdown",
   "metadata": {},
   "source": [
    "## Import main macros"
   ]
  },
  {
   "cell_type": "code",
   "execution_count": 2,
   "metadata": {
    "collapsed": false
   },
   "outputs": [],
   "source": [
    "(require [hytml.macros [*]])\n",
    "(import (hytml.macros (*)))"
   ]
  },
  {
   "cell_type": "markdown",
   "metadata": {},
   "source": [
    "Let us also define a small helper macro to actually render html on the Jupyter Notebook rather than display generated html code as a string:"
   ]
  },
  {
   "cell_type": "code",
   "execution_count": 3,
   "metadata": {
    "collapsed": true
   },
   "outputs": [],
   "source": [
    "(import IPython)\n",
    "(defmacro xml> [&rest code]\n",
    "  `(IPython.display.HTML (html* ~@code)))"
   ]
  },
  {
   "cell_type": "markdown",
   "metadata": {},
   "source": [
    "Then we are ready for the show!"
   ]
  },
  {
   "cell_type": "markdown",
   "metadata": {},
   "source": [
    "## XML, HTML4 (HTML5 and XHTML coming)\n",
    "\n",
    "At the moment macros from HyTML module includes `xml*` (`html*`) and `html4` macros to generate markup code. `xml*` is a generic generator which allows using any tag names and attributes. `html4` macro allows to use only html4 specified tag names. Complete chart is at the end of the document. \n",
    "\n",
    "Tags can be created with or without attributes, as well as with or without content. For example:"
   ]
  },
  {
   "cell_type": "code",
   "execution_count": 4,
   "metadata": {
    "collapsed": false
   },
   "outputs": [
    {
     "name": "stdout",
     "output_type": "stream",
     "text": [
      "<node/>\n",
      "<node attribute=\"value\"/>\n",
      "<node attribute=\"value\">Content</node>\n"
     ]
    }
   ],
   "source": [
    "(print\n",
    " (xml* \n",
    "  (node) \"\\r\\n\"\n",
    "  (node :attribute \"value\") \"\\r\\n\"\n",
    "  (node :attribute \"value\" \"Content\")))"
   ]
  },
  {
   "cell_type": "markdown",
   "metadata": {},
   "source": [
    "### Shorthand macro\n",
    "\n",
    "`#㎖` (Square Ml) can be used as a short hand for generating xml/html/xhtml code."
   ]
  },
  {
   "cell_type": "code",
   "execution_count": 5,
   "metadata": {
    "collapsed": false
   },
   "outputs": [
    {
     "data": {
      "text/plain": [
       "'<html><head><title>Page title</title></head><body><div class=\"container\">Page content</div></body></html>'"
      ]
     },
     "execution_count": 5,
     "metadata": {},
     "output_type": "execute_result"
    }
   ],
   "source": [
    "#㎖(html\n",
    "    (head (title \"Page title\"))\n",
    "    (body (div \"Page content\" :class \"container\")))"
   ]
  },
  {
   "cell_type": "markdown",
   "metadata": {},
   "source": [
    "Same can be achieved with the more familiar macro notation `xml*`:"
   ]
  },
  {
   "cell_type": "code",
   "execution_count": 6,
   "metadata": {
    "collapsed": false
   },
   "outputs": [
    {
     "data": {
      "text/plain": [
       "'<html><head><title>Page title</title></head><body><div class=\"container\">Page content</div></body></html>'"
      ]
     },
     "execution_count": 6,
     "metadata": {},
     "output_type": "execute_result"
    }
   ],
   "source": [
    "(xml*\n",
    "  (html\n",
    "    (head (title \"Page title\"))\n",
    "    (body (div \"Page content\" :class \"container\"))))"
   ]
  },
  {
   "cell_type": "markdown",
   "metadata": {},
   "source": [
    "But `xml*` is especially convenient when generating multiple instances of code:"
   ]
  },
  {
   "cell_type": "code",
   "execution_count": 7,
   "metadata": {
    "collapsed": false
   },
   "outputs": [
    {
     "data": {
      "text/plain": [
       "'<p>Sentence 1</p><p>Sentence 2</p><p>Sentence 3</p>'"
      ]
     },
     "execution_count": 7,
     "metadata": {},
     "output_type": "execute_result"
    }
   ],
   "source": [
    "(xml* (p \"Sentence 1\") (p \"Sentence 2\") (p \"Sentence 3\"))"
   ]
  },
  {
   "cell_type": "markdown",
   "metadata": {},
   "source": [
    "Let us then render the code, not just printing it. This can be done via `xml>` helper macro defined ealier:"
   ]
  },
  {
   "cell_type": "code",
   "execution_count": 8,
   "metadata": {
    "collapsed": false
   },
   "outputs": [
    {
     "data": {
      "text/html": [
       "Content is <b>king</b>!"
      ],
      "text/plain": [
       "<IPython.core.display.HTML object>"
      ]
     },
     "execution_count": 8,
     "metadata": {},
     "output_type": "execute_result"
    }
   ],
   "source": [
    "(xml> \"Content is \" (b king) !)"
   ]
  },
  {
   "cell_type": "markdown",
   "metadata": {},
   "source": [
    "If validation of the html tag names is a concern, then one could use `html4` macro. In the example we try to use `time` element which is specifically used in html5 only:"
   ]
  },
  {
   "cell_type": "code",
   "execution_count": 9,
   "metadata": {
    "collapsed": false
   },
   "outputs": [
    {
     "name": "stderr",
     "output_type": "stream",
     "text": [
      "\u001b[1;31mTraceback (most recent call last):\n",
      "  File \"C:\\Users\\phtep\\Anaconda3\\lib\\site-packages\\hy\\macros.py\", line 217, in macroexpand_1\n",
      "    obj = wrap_value(m(*ntree[1:], **opts))\n",
      "  File \"C:\\Users\\phtep\\OneDrive\\Asiakirjat\\GitHub\\hytml/hytml/macros.hy\", line 211, in _hy_anon_fn_25\n",
      "    (.join \"\" (map parse-html4 code)))\n",
      "  File \"C:\\Users\\phtep\\OneDrive\\Asiakirjat\\GitHub\\hytml/hytml/macros.hy\", line 157, in parse_html4\n",
      "    (raise (Exception (% \"Tag '%s' not meeting html4 specs\" tag))))))\n",
      "Exception: Tag 'time' not meeting html4 specs\n",
      "\n",
      "During handling of the above exception, another exception occurred:\n",
      "\n",
      "Traceback (most recent call last):\n",
      "  File \"C:\\Users\\phtep\\Anaconda3\\lib\\site-packages\\calysto_hy\\kernel.py\", line 89, in do_execute_direct\n",
      "    _ast = hy_compile(tokens, '', root=ast.Interactive)\n",
      "  File \"C:\\Users\\phtep\\Anaconda3\\lib\\site-packages\\hy\\compiler.py\", line 2675, in hy_compile\n",
      "    result = compiler.compile(tree)\n",
      "  File \"C:\\Users\\phtep\\Anaconda3\\lib\\site-packages\\hy\\compiler.py\", line 432, in compile\n",
      "    ret = self.compile_atom(_type, tree)\n",
      "  File \"C:\\Users\\phtep\\Anaconda3\\lib\\site-packages\\hy\\compiler.py\", line 424, in compile_atom\n",
      "    ret = _compile_table[atom_type](self, atom)\n",
      "  File \"C:\\Users\\phtep\\Anaconda3\\lib\\site-packages\\hy\\compiler.py\", line 628, in compile_raw_list\n",
      "    ret = self._compile_branch(entries)\n",
      "  File \"C:\\Users\\phtep\\Anaconda3\\lib\\site-packages\\hy\\compiler.py\", line 488, in _compile_branch\n",
      "    return _branch(self.compile(expr) for expr in exprs)\n",
      "  File \"C:\\Users\\phtep\\Anaconda3\\lib\\site-packages\\hy\\compiler.py\", line 315, in _branch\n",
      "    results = list(results)\n",
      "  File \"C:\\Users\\phtep\\Anaconda3\\lib\\site-packages\\hy\\compiler.py\", line 488, in <genexpr>\n",
      "    return _branch(self.compile(expr) for expr in exprs)\n",
      "  File \"C:\\Users\\phtep\\Anaconda3\\lib\\site-packages\\hy\\compiler.py\", line 432, in compile\n",
      "    ret = self.compile_atom(_type, tree)\n",
      "  File \"C:\\Users\\phtep\\Anaconda3\\lib\\site-packages\\hy\\compiler.py\", line 424, in compile_atom\n",
      "    ret = _compile_table[atom_type](self, atom)\n",
      "  File \"C:\\Users\\phtep\\Anaconda3\\lib\\site-packages\\hy\\compiler.py\", line 2056, in compile_expression\n",
      "    ret = self.compile_atom(fn, expression)\n",
      "  File \"C:\\Users\\phtep\\Anaconda3\\lib\\site-packages\\hy\\compiler.py\", line 424, in compile_atom\n",
      "    ret = _compile_table[atom_type](self, atom)\n",
      "  File \"C:\\Users\\phtep\\Anaconda3\\lib\\site-packages\\hy\\compiler.py\", line 799, in compile_try_expression\n",
      "    body = self.compile(body)\n",
      "  File \"C:\\Users\\phtep\\Anaconda3\\lib\\site-packages\\hy\\compiler.py\", line 432, in compile\n",
      "    ret = self.compile_atom(_type, tree)\n",
      "  File \"C:\\Users\\phtep\\Anaconda3\\lib\\site-packages\\hy\\compiler.py\", line 424, in compile_atom\n",
      "    ret = _compile_table[atom_type](self, atom)\n",
      "  File \"C:\\Users\\phtep\\Anaconda3\\lib\\site-packages\\hy\\compiler.py\", line 2042, in compile_expression\n",
      "    expression = macroexpand(expression, self)\n",
      "  File \"C:\\Users\\phtep\\Anaconda3\\lib\\site-packages\\hy\\macros.py\", line 181, in macroexpand\n",
      "    tree = macroexpand_1(tree, compiler)\n",
      "  File \"C:\\Users\\phtep\\Anaconda3\\lib\\site-packages\\hy\\macros.py\", line 224, in macroexpand_1\n",
      "    raise HyMacroExpansionError(tree, msg)\n",
      "hy.errors.HyMacroExpansionError:   File \"None\", line 2, column 2\n",
      "\n",
      "HyMacroExpansionError: b'expanding `html4\\': Exception(\"Tag \\'time\\' not meeting html4 specs\",)'\n",
      "\n",
      "\n",
      "\n",
      "\u001b[0m"
     ]
    }
   ],
   "source": [
    "(try\n",
    " (html4 (time))\n",
    " (except (e Exception)))"
   ]
  },
  {
   "cell_type": "markdown",
   "metadata": {},
   "source": [
    "## Unquoting code\n",
    "\n",
    "`html*` (same as `xml*`) is a macro so you can pass any code in it. See for example:"
   ]
  },
  {
   "cell_type": "code",
   "execution_count": 10,
   "metadata": {
    "collapsed": false
   },
   "outputs": [
    {
     "data": {
      "text/plain": [
       "'<p>Sum: <b><apply>sum<[1, 2, 3, 4]/></apply></b></p>'"
      ]
     },
     "execution_count": 10,
     "metadata": {},
     "output_type": "execute_result"
    }
   ],
   "source": [
    "(html* (p \"Sum: \" (b (apply sum [[1 2 3 4]]))))"
   ]
  },
  {
   "cell_type": "markdown",
   "metadata": {},
   "source": [
    "But you see, the result was not possibly what you expected. `html*` macro will interpret the first item of the _expression_ / _list_ as a name of the tag. Thus _apply_ becomes a tag name. Until the next _expression_ everything else is interpreted either as a content or a keyword.\n",
    "\n",
    "<blockquote>`html*` doesn't give a dime of the used tag names. They can be anything, even processed names. Same applies to keywords, values, and the content. You can use more strict `html4` and `html5` macros to make sure, tag names are corresponding html4 [specifications](http://www.w3.org/TR/html401/index/elements.html).</blockquote>\n",
    "\n",
    "However using `~` (unquote) symbol, `html*` macro behaviour can be stopped for a moment:"
   ]
  },
  {
   "cell_type": "code",
   "execution_count": 11,
   "metadata": {
    "collapsed": false
   },
   "outputs": [
    {
     "data": {
      "text/plain": [
       "'<p>Sum: <b>10</b>!</p>'"
      ]
     },
     "execution_count": 11,
     "metadata": {},
     "output_type": "execute_result"
    }
   ],
   "source": [
    "(html* (p \"Sum: \" (b ~(apply sum [[1 2 3 4]])) !))"
   ]
  },
  {
   "cell_type": "markdown",
   "metadata": {},
   "source": [
    "So the following expression after `~` will be evaluated and then result is returned back to the macro. And the rest of the code will be interpreted via macro. In this case it was just an exclamation mark.\n",
    "\n",
    "<blockquote>Note that it is not mandatory to wrap strings with `\"\"` if given input doesn't contain any spaces. You could also single quote simple non-spaced letter sequences. So `!` is same as `\"!\"` in this case.</blockquote>\n",
    "\n",
    "Quoting and executing normal Hy code inside html gives almost unlimited possibility to use HyTML as a templating engine. Of cource there is also a risk to evaluate code that breaks the code execution. Plus uncontrolled template engine code may be a security risk.\n",
    "\n",
    "## Unquote splice\n",
    "\n",
    "In addition to unquote, one can handle lists and iterators with `~@` (unquote-splice) symbol. This is particularly handy when a list of html elements needs to be passed to the parent element. Take for example table head generation:"
   ]
  },
  {
   "cell_type": "code",
   "execution_count": 12,
   "metadata": {
    "collapsed": false
   },
   "outputs": [
    {
     "data": {
      "text/plain": [
       "'<table><thead><tr><th class=\"even\">col 0</th><th class=\"odd\">col 1</th><th class=\"even\">col 2</th></tr></thead></table>'"
      ]
     },
     "execution_count": 12,
     "metadata": {},
     "output_type": "execute_result"
    }
   ],
   "source": [
    "(html* \n",
    " (table (thead\n",
    "   (tr ~@(list-comp\n",
    "         `(th :class (if (even? ~i) \"even\" \"odd\") ~label \" \" ~i)\n",
    "         [[i label] (enumerate (* [\"col\"] 3))])))))"
   ]
  },
  {
   "cell_type": "markdown",
   "metadata": {},
   "source": [
    "We should of course be able to use external source for the html. Let's try with csv data:"
   ]
  },
  {
   "cell_type": "code",
   "execution_count": 14,
   "metadata": {
    "collapsed": false,
    "scrolled": true
   },
   "outputs": [
    {
     "data": {
      "text/html": [
       "<table class=\"data\"><caption>Contacts</caption><thead><th>Title</th><th>Name</th><th>Phone</th></thead><do><tbody><td>Mr.</td><td>John</td><td>07868785831</td></tbody></do><do><tbody><td>Mr.</td><td>John</td><td>07868785831</td></tbody></do><do><tbody><td>Mr.</td><td>John</td><td>07868785831</td></tbody></do><do><tbody><td>Mr.</td><td>John</td><td>07868785831</td></tbody></do></table>"
      ],
      "text/plain": [
       "<IPython.core.display.HTML object>"
      ]
     },
     "execution_count": 14,
     "metadata": {},
     "output_type": "execute_result"
    }
   ],
   "source": [
    "(xml> \n",
    " (table :class \"data\"\n",
    "   (caption \"Contacts\")\n",
    "   (for-each\n",
    "     [[idx row] (enumerate (.split (.read (open \"data.csv\" \"r\")) \"\\n\"))]\n",
    "     (if (pos? idx) `(do\n",
    "         (tbody\n",
    "            (for-each [item (.split \"Mr.,John,07868785831\" \",\")]\n",
    "              `(td ~item))))\n",
    "         `(thead\n",
    "            (for-each [item (.split \"Title,Name,Phone\" \",\")]\n",
    "              `(th ~item)))))))"
   ]
  },
  {
   "cell_type": "markdown",
   "metadata": {},
   "source": [
    "## For-each\n",
    "\n",
    "Let's do that once more but this time with a dedicated `for-each` macro that can be used to generate content on a loop. \n",
    "\n",
    "One more thing you should notice is how variables (col, row and cell) are referenced. Deeper on the nested quoted structure you are, unquoting must also be repeated accordingly."
   ]
  },
  {
   "cell_type": "code",
   "execution_count": 16,
   "metadata": {
    "collapsed": false
   },
   "outputs": [
    {
     "data": {
      "text/html": [
       "<table class=\"data\"><caption>Data table</caption><thead><tr><th>col 1</th><th>col 2</th><th>col 3</th></tr></thead><tbody><tr><td>cel 0.0</td><td>cel 0.1</td><td>cel 0.2</td></tr><tr><td>cel 1.0</td><td>cel 1.1</td><td>cel 1.2</td></tr><tr><td>cel 2.0</td><td>cel 2.1</td><td>cel 2.2</td></tr></tbody><tfoot><tr><td>cel 0.0</td><td>cel 0.1</td><td>cel 0.2</td></tr></tfoot></table>"
      ],
      "text/plain": [
       "<IPython.core.display.HTML object>"
      ]
     },
     "execution_count": 16,
     "metadata": {},
     "output_type": "execute_result"
    }
   ],
   "source": [
    "(xml> \n",
    "  (table :class \"data\"\n",
    "    (caption \"Data table\")\n",
    "    (thead\n",
    "      (tr\n",
    "        (for-each [col [\"col 1\" \"col 2\" \"col 3\"]]\n",
    "          `(th ~col))))\n",
    "    (tbody \n",
    "     (for-each [row (range 3)]\n",
    "       `(tr\n",
    "         (for-each [cell (range 3)]\n",
    "           `(td \"cel \" ~~row \".\" ~cell)))))\n",
    "    (tfoot \n",
    "     (for-each [row (range 1)]\n",
    "       `(tr\n",
    "         (for-each [cell (range 3)]\n",
    "           `(td \"cel \" ~~row \".\" ~cell)))))))"
   ]
  },
  {
   "cell_type": "markdown",
   "metadata": {},
   "source": [
    "## HTML Specifications\n",
    "\n",
    "`html*` does not care about the specifications. It is totally dummy about the naming conventions of the tags and their forms or attributes. `html4` macro will render tags as specified below. Using undefined tag will raise an error. Attributes are not validated however. One should use official [validator](http://validator.w3.org/) for such a task.\n",
    "\n",
    "- Tag\n",
    "- Tag name\n",
    "- Forbidden (end tag)\n",
    "- Omit (forbidden end tag plus omit short tag)"
   ]
  },
  {
   "cell_type": "code",
   "execution_count": 17,
   "metadata": {
    "collapsed": false
   },
   "outputs": [
    {
     "data": {
      "text/html": [
       "<table class=\"data\"><caption>Data table</caption><thead><tr><th>Tag</th><th>Name</th><th>Forbidden</th><th>Omit</th></tr></thead><tbody><tr><td>DIR</td><td>Directory list</td><td>False</td><td>False</td></tr><tr><td>AREA</td><td>Image map region</td><td>True</td><td>False</td></tr><tr><td>BDO</td><td>BiDi override</td><td>False</td><td>False</td></tr><tr><td>BASE</td><td>Document base URI</td><td>True</td><td>False</td></tr><tr><td>LI</td><td>List item</td><td>False</td><td>False</td></tr><tr><td>I</td><td>Italic text</td><td>False</td><td>False</td></tr><tr><td>OBJECT</td><td>Object</td><td>False</td><td>False</td></tr><tr><td>TT</td><td>Teletype text</td><td>False</td><td>False</td></tr><tr><td>HR</td><td>Horizontal rule</td><td>True</td><td>False</td></tr><tr><td>DL</td><td>Definition list</td><td>False</td><td>False</td></tr><tr><td>BUTTON</td><td>Button</td><td>False</td><td>False</td></tr><tr><td>OL</td><td>Ordered list</td><td>False</td><td>False</td></tr><tr><td>FIELDSET</td><td>Form control group</td><td>False</td><td>False</td></tr><tr><td>ABBR</td><td>Abbreviation</td><td>False</td><td>False</td></tr><tr><td>BLOCKQUOTE</td><td>Block quotation</td><td>False</td><td>False</td></tr><tr><td>ADDRESS</td><td>Address</td><td>False</td><td>False</td></tr><tr><td>HEAD</td><td>Document head</td><td>False</td><td>False</td></tr><tr><td>ISINDEX</td><td>Input prompt</td><td>True</td><td>False</td></tr><tr><td>TITLE</td><td>Document title</td><td>False</td><td>False</td></tr><tr><td>Q</td><td>Short quotation</td><td>False</td><td>False</td></tr><tr><td>UL</td><td>Unordered list</td><td>False</td><td>False</td></tr><tr><td>LINK</td><td>Document relationship</td><td>True</td><td>False</td></tr><tr><td>P</td><td>Paragraph</td><td>False</td><td>False</td></tr><tr><td>BR</td><td>Line break</td><td>True</td><td>False</td></tr><tr><td>TEXTAREA</td><td>Multi-line text input</td><td>False</td><td>False</td></tr><tr><td>STRONG</td><td>Strong emphasis</td><td>False</td><td>False</td></tr><tr><td>CITE</td><td>Citation</td><td>False</td><td>False</td></tr><tr><td>DIV</td><td>Generic block-level container</td><td>False</td><td>False</td></tr><tr><td>H3</td><td>Level-three heading</td><td>False</td><td>False</td></tr><tr><td>H5</td><td>Level-five heading</td><td>False</td><td>False</td></tr><tr><td>TD</td><td>Table data cell</td><td>False</td><td>False</td></tr><tr><td>HTML</td><td>HTML document</td><td>False</td><td>False</td></tr><tr><td>H4</td><td>Level-four heading</td><td>False</td><td>False</td></tr><tr><td>VAR</td><td>Variable</td><td>False</td><td>False</td></tr><tr><td>NOFRAMES</td><td>Frames alternate content</td><td>False</td><td>False</td></tr><tr><td>BODY</td><td>Document body</td><td>False</td><td>False</td></tr><tr><td>STRIKE</td><td>Strike-through text</td><td>False</td><td>False</td></tr><tr><td>ACRONYM</td><td>Acronym</td><td>False</td><td>False</td></tr><tr><td>H6</td><td>Level-six heading</td><td>False</td><td>False</td></tr><tr><td>COL</td><td>Table column</td><td>True</td><td>True</td></tr><tr><td>STYLE</td><td>Embedded style sheet</td><td>False</td><td>False</td></tr><tr><td>CODE</td><td>Computer code</td><td>False</td><td>False</td></tr><tr><td>TR</td><td>Table row</td><td>False</td><td>False</td></tr><tr><td>CENTER</td><td>Centered block</td><td>False</td><td>False</td></tr><tr><td>SAMP</td><td>Sample output</td><td>False</td><td>False</td></tr><tr><td>SUP</td><td>Superscript</td><td>False</td><td>False</td></tr><tr><td>BASEFONT</td><td>Base font change</td><td>True</td><td>False</td></tr><tr><td>DFN</td><td>Defined term</td><td>False</td><td>False</td></tr><tr><td>DEL</td><td>Deleted text</td><td>False</td><td>False</td></tr><tr><td>TABLE</td><td>Table</td><td>False</td><td>False</td></tr><tr><td>TH</td><td>Table header cell</td><td>False</td><td>False</td></tr><tr><td>EM</td><td>Emphasis</td><td>False</td><td>False</td></tr><tr><td>TBODY</td><td>Table body</td><td>False</td><td>False</td></tr><tr><td>DT</td><td>Definition term</td><td>False</td><td>False</td></tr><tr><td>A</td><td>Anchor</td><td>False</td><td>False</td></tr><tr><td>COLGROUP</td><td>Table column group</td><td>False</td><td>False</td></tr><tr><td>SPAN</td><td>Generic inline container</td><td>False</td><td>False</td></tr><tr><td>APPLET</td><td>Java applet</td><td>False</td><td>False</td></tr><tr><td>SMALL</td><td>Small text</td><td>False</td><td>False</td></tr><tr><td>SELECT</td><td>Option selector</td><td>False</td><td>False</td></tr><tr><td>CAPTION</td><td>Table caption</td><td>False</td><td>False</td></tr><tr><td>U</td><td>Underlined text</td><td>False</td><td>False</td></tr><tr><td>B</td><td>Bold text</td><td>False</td><td>False</td></tr><tr><td>TFOOT</td><td>Table foot</td><td>False</td><td>False</td></tr><tr><td>S</td><td>Strike-through text</td><td>False</td><td>False</td></tr><tr><td>FONT</td><td>Font change</td><td>False</td><td>False</td></tr><tr><td>LEGEND</td><td>Fieldset caption</td><td>False</td><td>False</td></tr><tr><td>THEAD</td><td>Table head</td><td>False</td><td>False</td></tr><tr><td>INS</td><td>Inserted text</td><td>False</td><td>False</td></tr><tr><td>FRAMESET</td><td>Frameset</td><td>False</td><td>False</td></tr><tr><td>META</td><td>Metadata</td><td>True</td><td>False</td></tr><tr><td>DD</td><td>Definition description</td><td>False</td><td>False</td></tr><tr><td>MAP</td><td>Image map</td><td>False</td><td>False</td></tr><tr><td>H1</td><td>Level-one heading</td><td>False</td><td>False</td></tr><tr><td>LABEL</td><td>Form field label</td><td>False</td><td>False</td></tr><tr><td>PRE</td><td>Preformatted text</td><td>False</td><td>False</td></tr><tr><td>MENU</td><td>Menu list</td><td>False</td><td>False</td></tr><tr><td>INPUT</td><td>Form input</td><td>True</td><td>False</td></tr><tr><td>IFRAME</td><td>Inline frame</td><td>False</td><td>False</td></tr><tr><td>FRAME</td><td>Frame</td><td>True</td><td>False</td></tr><tr><td>OPTION</td><td>Menu option</td><td>False</td><td>False</td></tr><tr><td>H2</td><td>Level-two heading</td><td>False</td><td>False</td></tr><tr><td>SCRIPT</td><td>Client-side script</td><td>False</td><td>False</td></tr><tr><td>NOSCRIPT</td><td>Alternate script content</td><td>False</td><td>False</td></tr><tr><td>OPTGROUP</td><td>Option group</td><td>False</td><td>False</td></tr><tr><td>FORM</td><td>Interactive form</td><td>False</td><td>False</td></tr><tr><td>PARAM</td><td>Object parameter</td><td>True</td><td>False</td></tr><tr><td>IMG</td><td>Inline image</td><td>True</td><td>False</td></tr><tr><td>BIG</td><td>Large text</td><td>False</td><td>False</td></tr><tr><td>KBD</td><td>Text to be input</td><td>False</td><td>False</td></tr><tr><td>SUB</td><td>Subscript</td><td>False</td><td>False</td></tr></tbody></table>"
      ],
      "text/plain": [
       "<IPython.core.display.HTML object>"
      ]
     },
     "execution_count": 17,
     "metadata": {},
     "output_type": "execute_result"
    }
   ],
   "source": [
    "(xml> \n",
    "  (table :class \"data\"\n",
    "    (caption \"Data table\")\n",
    "    (thead\n",
    "      (tr\n",
    "        (for-each [col [\"Tag\" \"Name\" \"Forbidden\" \"Omit\"]]\n",
    "          `(th ~col))))\n",
    "    (tbody \n",
    "     (for-each [[idx1 row] (enumerate (do (import (hytml.specs (specs))) specs))]\n",
    "       (do\n",
    "        `(tr\n",
    "         (td ~(.upper (.join \"\" (drop 2 row))))\n",
    "         (td ~(get (get specs row) :name))\n",
    "         (td ~(get (get specs row) :forbidden))\n",
    "         (td ~(get (get specs row) :omit))))))))"
   ]
  },
  {
   "cell_type": "code",
   "execution_count": 18,
   "metadata": {
    "collapsed": false
   },
   "outputs": [
    {
     "data": {
      "text/html": [
       "<style>\n",
       "\n",
       "/**\n",
       " * Copyright: Marko Manninen, 04/2016 (https://www.github.com/markomanninen)\n",
       " */\n",
       "\n",
       ".rendered_html table,\n",
       ".rendered_html tr,\n",
       ".rendered_html th,\n",
       ".rendered_html td {\n",
       "    border: 0\n",
       "}\n",
       "\n",
       "table.data {\n",
       "    color: black;\n",
       "    border: 0;\n",
       "\tmargin: 1.5em auto;\n",
       "\tborder-bottom: 1px solid #999;\n",
       "\tborder-collapse: collapse;\n",
       "\t-webkit-border-top-left-radius: 8px;\n",
       "\t-webkit-border-top-right-radius: 8px;\n",
       "\t-moz-border-radius: 8px 8px 0 0;\n",
       "\tborder-radius: 8px 8px 0 0;\n",
       "\tbackground: #444;\n",
       "}\n",
       "table.data caption {\n",
       "    margin-bottom: .75em;\n",
       "    text-align: center;\n",
       "\tfont-style: italic;\n",
       "}\n",
       "table.data td {\n",
       "\t-moz-transition: background 0.2s linear;\n",
       "\t-o-transition: background 0.2s linear;\n",
       "\ttransition: background 0.2s linear;\n",
       "\twhite-space: nowrap;\n",
       "\tborder-top: 1px solid #eee;\n",
       "\tborder-left: 1px solid #eee;\n",
       "\tpadding: 0.4em 0.8em;\n",
       "\tbackground: #fff;\n",
       "}\n",
       "table.data tfoot,\n",
       "table.data tbody {\n",
       "    outline-offset: -1px;\n",
       "    outline: 1px solid #ccc;\n",
       "}\n",
       "\n",
       "table.data thead {}\n",
       "table.data thead th {\n",
       "\tborder: none;\n",
       "    border-bottom: 2px solid #eee;\n",
       "\tbackground: transparent;\n",
       "\tcolor: #fff;\n",
       "\ttext-align: center;\n",
       "\tcursor: pointer;\n",
       "    padding: 0.4em 0.8em;\n",
       "}\n",
       "\n",
       "table.data tbody {}\n",
       "table.data tbody tr:hover td {\n",
       "\tbackground: #ffe;\n",
       "    color: black;\n",
       "}\n",
       "table.data tbody tr td:hover {\n",
       "\tbackground: #f5f6d2;\n",
       "}\n",
       "table.data tbody tr td:last-child {\n",
       "\ttext-align: center\n",
       "}\n",
       "\n",
       "table.data tbody tr th {\n",
       "\tcolor: white;\n",
       "    padding: 0.4em 0.8em;\n",
       "    text-transform: uppercase\n",
       "}\n",
       "\n",
       "\n",
       "table.data tfoot {}\n",
       "table.data tfoot td {\n",
       "    padding: 0.4em 0.8em;\n",
       "\ttext-align: center;\n",
       "\tfont-style: italic;\n",
       "}\n",
       "\n",
       "table.data .right {\n",
       "    text-align: right\n",
       "}\n",
       "\n",
       "table.data tr.ok td {background-color: white;}\n",
       "table.data tr.failed td {background-color: red; color: white}\n",
       "table.data tr.error td {background-color: lightpink}\n",
       "table.data tbody.failures {}\n",
       "table.data tbody.errors {}\n",
       "\n",
       "div.output_scroll {height: inherit;}\n",
       "</style>\n"
      ],
      "text/plain": [
       "<IPython.core.display.HTML object>"
      ]
     },
     "execution_count": 18,
     "metadata": {},
     "output_type": "execute_result"
    }
   ],
   "source": [
    "(IPython.display.HTML (.read (open \"styles.css\" \"r\")))"
   ]
  },
  {
   "cell_type": "markdown",
   "metadata": {},
   "source": [
    "## The [MIT](http://choosealicense.com/licenses/mit/) License\n",
    "\n",
    "Copyright (c) 2017 Marko Manninen"
   ]
  }
 ],
 "metadata": {
  "anaconda-cloud": {},
  "kernelspec": {
   "display_name": "Calysto Hy",
   "language": "hy",
   "name": "calysto_hy"
  },
  "language_info": {
   "codemirror_mode": {
    "name": "scheme"
   },
   "mimetype": "text/x-hylang",
   "name": "hy",
   "pygments_lexer": "lisp"
  }
 },
 "nbformat": 4,
 "nbformat_minor": 1
}
